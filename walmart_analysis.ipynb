{
  "nbformat": 4,
  "nbformat_minor": 0,
  "metadata": {
    "colab": {
      "provenance": [],
      "authorship_tag": "ABX9TyNpbjlpgkZJ7+hr3HpKmcgB",
      "include_colab_link": true
    },
    "kernelspec": {
      "name": "python3",
      "display_name": "Python 3"
    },
    "language_info": {
      "name": "python"
    }
  },
  "cells": [
    {
      "cell_type": "markdown",
      "metadata": {
        "id": "view-in-github",
        "colab_type": "text"
      },
      "source": [
        "<a href=\"https://colab.research.google.com/github/Pedro-hub13/Analysis-walmart-stores/blob/main/walmart_analysis.ipynb\" target=\"_parent\"><img src=\"https://colab.research.google.com/assets/colab-badge.svg\" alt=\"Open In Colab\"/></a>"
      ]
    },
    {
      "cell_type": "code",
      "execution_count": null,
      "metadata": {
        "colab": {
          "base_uri": "https://localhost:8080/",
          "height": 73
        },
        "id": "VAISCaiTWTCa",
        "outputId": "517b1c01-27f3-474f-9b09-3600ae87f44d"
      },
      "outputs": [
        {
          "output_type": "display_data",
          "data": {
            "text/plain": [
              "<IPython.core.display.HTML object>"
            ],
            "text/html": [
              "\n",
              "     <input type=\"file\" id=\"files-f55086db-c63f-4063-9852-8c5f202ea965\" name=\"files[]\" multiple disabled\n",
              "        style=\"border:none\" />\n",
              "     <output id=\"result-f55086db-c63f-4063-9852-8c5f202ea965\">\n",
              "      Upload widget is only available when the cell has been executed in the\n",
              "      current browser session. Please rerun this cell to enable.\n",
              "      </output>\n",
              "      <script>// Copyright 2017 Google LLC\n",
              "//\n",
              "// Licensed under the Apache License, Version 2.0 (the \"License\");\n",
              "// you may not use this file except in compliance with the License.\n",
              "// You may obtain a copy of the License at\n",
              "//\n",
              "//      http://www.apache.org/licenses/LICENSE-2.0\n",
              "//\n",
              "// Unless required by applicable law or agreed to in writing, software\n",
              "// distributed under the License is distributed on an \"AS IS\" BASIS,\n",
              "// WITHOUT WARRANTIES OR CONDITIONS OF ANY KIND, either express or implied.\n",
              "// See the License for the specific language governing permissions and\n",
              "// limitations under the License.\n",
              "\n",
              "/**\n",
              " * @fileoverview Helpers for google.colab Python module.\n",
              " */\n",
              "(function(scope) {\n",
              "function span(text, styleAttributes = {}) {\n",
              "  const element = document.createElement('span');\n",
              "  element.textContent = text;\n",
              "  for (const key of Object.keys(styleAttributes)) {\n",
              "    element.style[key] = styleAttributes[key];\n",
              "  }\n",
              "  return element;\n",
              "}\n",
              "\n",
              "// Max number of bytes which will be uploaded at a time.\n",
              "const MAX_PAYLOAD_SIZE = 100 * 1024;\n",
              "\n",
              "function _uploadFiles(inputId, outputId) {\n",
              "  const steps = uploadFilesStep(inputId, outputId);\n",
              "  const outputElement = document.getElementById(outputId);\n",
              "  // Cache steps on the outputElement to make it available for the next call\n",
              "  // to uploadFilesContinue from Python.\n",
              "  outputElement.steps = steps;\n",
              "\n",
              "  return _uploadFilesContinue(outputId);\n",
              "}\n",
              "\n",
              "// This is roughly an async generator (not supported in the browser yet),\n",
              "// where there are multiple asynchronous steps and the Python side is going\n",
              "// to poll for completion of each step.\n",
              "// This uses a Promise to block the python side on completion of each step,\n",
              "// then passes the result of the previous step as the input to the next step.\n",
              "function _uploadFilesContinue(outputId) {\n",
              "  const outputElement = document.getElementById(outputId);\n",
              "  const steps = outputElement.steps;\n",
              "\n",
              "  const next = steps.next(outputElement.lastPromiseValue);\n",
              "  return Promise.resolve(next.value.promise).then((value) => {\n",
              "    // Cache the last promise value to make it available to the next\n",
              "    // step of the generator.\n",
              "    outputElement.lastPromiseValue = value;\n",
              "    return next.value.response;\n",
              "  });\n",
              "}\n",
              "\n",
              "/**\n",
              " * Generator function which is called between each async step of the upload\n",
              " * process.\n",
              " * @param {string} inputId Element ID of the input file picker element.\n",
              " * @param {string} outputId Element ID of the output display.\n",
              " * @return {!Iterable<!Object>} Iterable of next steps.\n",
              " */\n",
              "function* uploadFilesStep(inputId, outputId) {\n",
              "  const inputElement = document.getElementById(inputId);\n",
              "  inputElement.disabled = false;\n",
              "\n",
              "  const outputElement = document.getElementById(outputId);\n",
              "  outputElement.innerHTML = '';\n",
              "\n",
              "  const pickedPromise = new Promise((resolve) => {\n",
              "    inputElement.addEventListener('change', (e) => {\n",
              "      resolve(e.target.files);\n",
              "    });\n",
              "  });\n",
              "\n",
              "  const cancel = document.createElement('button');\n",
              "  inputElement.parentElement.appendChild(cancel);\n",
              "  cancel.textContent = 'Cancel upload';\n",
              "  const cancelPromise = new Promise((resolve) => {\n",
              "    cancel.onclick = () => {\n",
              "      resolve(null);\n",
              "    };\n",
              "  });\n",
              "\n",
              "  // Wait for the user to pick the files.\n",
              "  const files = yield {\n",
              "    promise: Promise.race([pickedPromise, cancelPromise]),\n",
              "    response: {\n",
              "      action: 'starting',\n",
              "    }\n",
              "  };\n",
              "\n",
              "  cancel.remove();\n",
              "\n",
              "  // Disable the input element since further picks are not allowed.\n",
              "  inputElement.disabled = true;\n",
              "\n",
              "  if (!files) {\n",
              "    return {\n",
              "      response: {\n",
              "        action: 'complete',\n",
              "      }\n",
              "    };\n",
              "  }\n",
              "\n",
              "  for (const file of files) {\n",
              "    const li = document.createElement('li');\n",
              "    li.append(span(file.name, {fontWeight: 'bold'}));\n",
              "    li.append(span(\n",
              "        `(${file.type || 'n/a'}) - ${file.size} bytes, ` +\n",
              "        `last modified: ${\n",
              "            file.lastModifiedDate ? file.lastModifiedDate.toLocaleDateString() :\n",
              "                                    'n/a'} - `));\n",
              "    const percent = span('0% done');\n",
              "    li.appendChild(percent);\n",
              "\n",
              "    outputElement.appendChild(li);\n",
              "\n",
              "    const fileDataPromise = new Promise((resolve) => {\n",
              "      const reader = new FileReader();\n",
              "      reader.onload = (e) => {\n",
              "        resolve(e.target.result);\n",
              "      };\n",
              "      reader.readAsArrayBuffer(file);\n",
              "    });\n",
              "    // Wait for the data to be ready.\n",
              "    let fileData = yield {\n",
              "      promise: fileDataPromise,\n",
              "      response: {\n",
              "        action: 'continue',\n",
              "      }\n",
              "    };\n",
              "\n",
              "    // Use a chunked sending to avoid message size limits. See b/62115660.\n",
              "    let position = 0;\n",
              "    do {\n",
              "      const length = Math.min(fileData.byteLength - position, MAX_PAYLOAD_SIZE);\n",
              "      const chunk = new Uint8Array(fileData, position, length);\n",
              "      position += length;\n",
              "\n",
              "      const base64 = btoa(String.fromCharCode.apply(null, chunk));\n",
              "      yield {\n",
              "        response: {\n",
              "          action: 'append',\n",
              "          file: file.name,\n",
              "          data: base64,\n",
              "        },\n",
              "      };\n",
              "\n",
              "      let percentDone = fileData.byteLength === 0 ?\n",
              "          100 :\n",
              "          Math.round((position / fileData.byteLength) * 100);\n",
              "      percent.textContent = `${percentDone}% done`;\n",
              "\n",
              "    } while (position < fileData.byteLength);\n",
              "  }\n",
              "\n",
              "  // All done.\n",
              "  yield {\n",
              "    response: {\n",
              "      action: 'complete',\n",
              "    }\n",
              "  };\n",
              "}\n",
              "\n",
              "scope.google = scope.google || {};\n",
              "scope.google.colab = scope.google.colab || {};\n",
              "scope.google.colab._files = {\n",
              "  _uploadFiles,\n",
              "  _uploadFilesContinue,\n",
              "};\n",
              "})(self);\n",
              "</script> "
            ]
          },
          "metadata": {}
        },
        {
          "output_type": "stream",
          "name": "stdout",
          "text": [
            "Saving Walmart[1].csv to Walmart[1].csv\n"
          ]
        }
      ],
      "source": [
        "from google.colab import files\n",
        "upload = files.upload()"
      ]
    },
    {
      "cell_type": "code",
      "source": [
        "import pandas as pd\n",
        "import numpy as np\n",
        "import seaborn as sns\n",
        "import matplotlib.pyplot as plt\n",
        "import plotly.express as px\n",
        "from sklearn.preprocessing import scale"
      ],
      "metadata": {
        "id": "6lGkTtXyWygX"
      },
      "execution_count": null,
      "outputs": []
    },
    {
      "cell_type": "markdown",
      "source": [
        "##Primeiras Analises "
      ],
      "metadata": {
        "id": "vBTK-gdiXFzi"
      }
    },
    {
      "cell_type": "code",
      "source": [
        "df = pd.read_csv('Walmart[1].csv')\n",
        "df.head()"
      ],
      "metadata": {
        "colab": {
          "base_uri": "https://localhost:8080/",
          "height": 206
        },
        "id": "MYTFbObkXCEW",
        "outputId": "1bdeaf9c-0b73-4de5-e379-9fb5a327cea2"
      },
      "execution_count": null,
      "outputs": [
        {
          "output_type": "execute_result",
          "data": {
            "text/plain": [
              "   Store        Date  Weekly_Sales  Holiday_Flag  Temperature  Fuel_Price  \\\n",
              "0      1  05-02-2010    1643690.90             0        42.31       2.572   \n",
              "1      1  12-02-2010    1641957.44             1        38.51       2.548   \n",
              "2      1  19-02-2010    1611968.17             0        39.93       2.514   \n",
              "3      1  26-02-2010    1409727.59             0        46.63       2.561   \n",
              "4      1  05-03-2010    1554806.68             0        46.50       2.625   \n",
              "\n",
              "          CPI  Unemployment  \n",
              "0  211.096358         8.106  \n",
              "1  211.242170         8.106  \n",
              "2  211.289143         8.106  \n",
              "3  211.319643         8.106  \n",
              "4  211.350143         8.106  "
            ],
            "text/html": [
              "\n",
              "  <div id=\"df-0c1bb3c7-b5d7-47bd-90cf-247a83260b4c\">\n",
              "    <div class=\"colab-df-container\">\n",
              "      <div>\n",
              "<style scoped>\n",
              "    .dataframe tbody tr th:only-of-type {\n",
              "        vertical-align: middle;\n",
              "    }\n",
              "\n",
              "    .dataframe tbody tr th {\n",
              "        vertical-align: top;\n",
              "    }\n",
              "\n",
              "    .dataframe thead th {\n",
              "        text-align: right;\n",
              "    }\n",
              "</style>\n",
              "<table border=\"1\" class=\"dataframe\">\n",
              "  <thead>\n",
              "    <tr style=\"text-align: right;\">\n",
              "      <th></th>\n",
              "      <th>Store</th>\n",
              "      <th>Date</th>\n",
              "      <th>Weekly_Sales</th>\n",
              "      <th>Holiday_Flag</th>\n",
              "      <th>Temperature</th>\n",
              "      <th>Fuel_Price</th>\n",
              "      <th>CPI</th>\n",
              "      <th>Unemployment</th>\n",
              "    </tr>\n",
              "  </thead>\n",
              "  <tbody>\n",
              "    <tr>\n",
              "      <th>0</th>\n",
              "      <td>1</td>\n",
              "      <td>05-02-2010</td>\n",
              "      <td>1643690.90</td>\n",
              "      <td>0</td>\n",
              "      <td>42.31</td>\n",
              "      <td>2.572</td>\n",
              "      <td>211.096358</td>\n",
              "      <td>8.106</td>\n",
              "    </tr>\n",
              "    <tr>\n",
              "      <th>1</th>\n",
              "      <td>1</td>\n",
              "      <td>12-02-2010</td>\n",
              "      <td>1641957.44</td>\n",
              "      <td>1</td>\n",
              "      <td>38.51</td>\n",
              "      <td>2.548</td>\n",
              "      <td>211.242170</td>\n",
              "      <td>8.106</td>\n",
              "    </tr>\n",
              "    <tr>\n",
              "      <th>2</th>\n",
              "      <td>1</td>\n",
              "      <td>19-02-2010</td>\n",
              "      <td>1611968.17</td>\n",
              "      <td>0</td>\n",
              "      <td>39.93</td>\n",
              "      <td>2.514</td>\n",
              "      <td>211.289143</td>\n",
              "      <td>8.106</td>\n",
              "    </tr>\n",
              "    <tr>\n",
              "      <th>3</th>\n",
              "      <td>1</td>\n",
              "      <td>26-02-2010</td>\n",
              "      <td>1409727.59</td>\n",
              "      <td>0</td>\n",
              "      <td>46.63</td>\n",
              "      <td>2.561</td>\n",
              "      <td>211.319643</td>\n",
              "      <td>8.106</td>\n",
              "    </tr>\n",
              "    <tr>\n",
              "      <th>4</th>\n",
              "      <td>1</td>\n",
              "      <td>05-03-2010</td>\n",
              "      <td>1554806.68</td>\n",
              "      <td>0</td>\n",
              "      <td>46.50</td>\n",
              "      <td>2.625</td>\n",
              "      <td>211.350143</td>\n",
              "      <td>8.106</td>\n",
              "    </tr>\n",
              "  </tbody>\n",
              "</table>\n",
              "</div>\n",
              "      <button class=\"colab-df-convert\" onclick=\"convertToInteractive('df-0c1bb3c7-b5d7-47bd-90cf-247a83260b4c')\"\n",
              "              title=\"Convert this dataframe to an interactive table.\"\n",
              "              style=\"display:none;\">\n",
              "        \n",
              "  <svg xmlns=\"http://www.w3.org/2000/svg\" height=\"24px\"viewBox=\"0 0 24 24\"\n",
              "       width=\"24px\">\n",
              "    <path d=\"M0 0h24v24H0V0z\" fill=\"none\"/>\n",
              "    <path d=\"M18.56 5.44l.94 2.06.94-2.06 2.06-.94-2.06-.94-.94-2.06-.94 2.06-2.06.94zm-11 1L8.5 8.5l.94-2.06 2.06-.94-2.06-.94L8.5 2.5l-.94 2.06-2.06.94zm10 10l.94 2.06.94-2.06 2.06-.94-2.06-.94-.94-2.06-.94 2.06-2.06.94z\"/><path d=\"M17.41 7.96l-1.37-1.37c-.4-.4-.92-.59-1.43-.59-.52 0-1.04.2-1.43.59L10.3 9.45l-7.72 7.72c-.78.78-.78 2.05 0 2.83L4 21.41c.39.39.9.59 1.41.59.51 0 1.02-.2 1.41-.59l7.78-7.78 2.81-2.81c.8-.78.8-2.07 0-2.86zM5.41 20L4 18.59l7.72-7.72 1.47 1.35L5.41 20z\"/>\n",
              "  </svg>\n",
              "      </button>\n",
              "      \n",
              "  <style>\n",
              "    .colab-df-container {\n",
              "      display:flex;\n",
              "      flex-wrap:wrap;\n",
              "      gap: 12px;\n",
              "    }\n",
              "\n",
              "    .colab-df-convert {\n",
              "      background-color: #E8F0FE;\n",
              "      border: none;\n",
              "      border-radius: 50%;\n",
              "      cursor: pointer;\n",
              "      display: none;\n",
              "      fill: #1967D2;\n",
              "      height: 32px;\n",
              "      padding: 0 0 0 0;\n",
              "      width: 32px;\n",
              "    }\n",
              "\n",
              "    .colab-df-convert:hover {\n",
              "      background-color: #E2EBFA;\n",
              "      box-shadow: 0px 1px 2px rgba(60, 64, 67, 0.3), 0px 1px 3px 1px rgba(60, 64, 67, 0.15);\n",
              "      fill: #174EA6;\n",
              "    }\n",
              "\n",
              "    [theme=dark] .colab-df-convert {\n",
              "      background-color: #3B4455;\n",
              "      fill: #D2E3FC;\n",
              "    }\n",
              "\n",
              "    [theme=dark] .colab-df-convert:hover {\n",
              "      background-color: #434B5C;\n",
              "      box-shadow: 0px 1px 3px 1px rgba(0, 0, 0, 0.15);\n",
              "      filter: drop-shadow(0px 1px 2px rgba(0, 0, 0, 0.3));\n",
              "      fill: #FFFFFF;\n",
              "    }\n",
              "  </style>\n",
              "\n",
              "      <script>\n",
              "        const buttonEl =\n",
              "          document.querySelector('#df-0c1bb3c7-b5d7-47bd-90cf-247a83260b4c button.colab-df-convert');\n",
              "        buttonEl.style.display =\n",
              "          google.colab.kernel.accessAllowed ? 'block' : 'none';\n",
              "\n",
              "        async function convertToInteractive(key) {\n",
              "          const element = document.querySelector('#df-0c1bb3c7-b5d7-47bd-90cf-247a83260b4c');\n",
              "          const dataTable =\n",
              "            await google.colab.kernel.invokeFunction('convertToInteractive',\n",
              "                                                     [key], {});\n",
              "          if (!dataTable) return;\n",
              "\n",
              "          const docLinkHtml = 'Like what you see? Visit the ' +\n",
              "            '<a target=\"_blank\" href=https://colab.research.google.com/notebooks/data_table.ipynb>data table notebook</a>'\n",
              "            + ' to learn more about interactive tables.';\n",
              "          element.innerHTML = '';\n",
              "          dataTable['output_type'] = 'display_data';\n",
              "          await google.colab.output.renderOutput(dataTable, element);\n",
              "          const docLink = document.createElement('div');\n",
              "          docLink.innerHTML = docLinkHtml;\n",
              "          element.appendChild(docLink);\n",
              "        }\n",
              "      </script>\n",
              "    </div>\n",
              "  </div>\n",
              "  "
            ]
          },
          "metadata": {},
          "execution_count": 3
        }
      ]
    },
    {
      "cell_type": "code",
      "source": [
        "df.info()"
      ],
      "metadata": {
        "colab": {
          "base_uri": "https://localhost:8080/"
        },
        "id": "M-VzWR8YXTCs",
        "outputId": "65a3bda4-26ec-4ae7-a193-51255092554f"
      },
      "execution_count": null,
      "outputs": [
        {
          "output_type": "stream",
          "name": "stdout",
          "text": [
            "<class 'pandas.core.frame.DataFrame'>\n",
            "RangeIndex: 6435 entries, 0 to 6434\n",
            "Data columns (total 8 columns):\n",
            " #   Column        Non-Null Count  Dtype  \n",
            "---  ------        --------------  -----  \n",
            " 0   Store         6435 non-null   int64  \n",
            " 1   Date          6435 non-null   object \n",
            " 2   Weekly_Sales  6435 non-null   float64\n",
            " 3   Holiday_Flag  6435 non-null   int64  \n",
            " 4   Temperature   6435 non-null   float64\n",
            " 5   Fuel_Price    6435 non-null   float64\n",
            " 6   CPI           6435 non-null   float64\n",
            " 7   Unemployment  6435 non-null   float64\n",
            "dtypes: float64(5), int64(2), object(1)\n",
            "memory usage: 402.3+ KB\n"
          ]
        }
      ]
    },
    {
      "cell_type": "markdown",
      "source": [
        "sem valores nulos, e a tranformação da Data que está como object para Datetime"
      ],
      "metadata": {
        "id": "RGWWXXw2a7b6"
      }
    },
    {
      "cell_type": "code",
      "source": [
        "df['Date'] = pd.to_datetime(df['Date'])"
      ],
      "metadata": {
        "id": "E5ZOPG7zXY8O"
      },
      "execution_count": null,
      "outputs": []
    },
    {
      "cell_type": "code",
      "source": [
        "df.duplicated().any()"
      ],
      "metadata": {
        "colab": {
          "base_uri": "https://localhost:8080/"
        },
        "id": "hh84ZXjdaqlO",
        "outputId": "6f4f3b41-f34c-4a63-e662-8a7db5197fc9"
      },
      "execution_count": null,
      "outputs": [
        {
          "output_type": "execute_result",
          "data": {
            "text/plain": [
              "False"
            ]
          },
          "metadata": {},
          "execution_count": 6
        }
      ]
    },
    {
      "cell_type": "markdown",
      "source": [
        "sem valores duplicados também"
      ],
      "metadata": {
        "id": "KfovRXf-a1l1"
      }
    },
    {
      "cell_type": "markdown",
      "source": [
        "##preço medio de venda semanal por loja"
      ],
      "metadata": {
        "id": "Nb1sft3fbUsW"
      }
    },
    {
      "cell_type": "code",
      "source": [
        "df_mean_store = df.groupby('Store').Weekly_Sales.mean().sort_values(ascending=False)\n",
        "df_mean_store.to_frame().style.format('{:,.2f}')"
      ],
      "metadata": {
        "colab": {
          "base_uri": "https://localhost:8080/",
          "height": 1000
        },
        "id": "nEBnXu9Kayp1",
        "outputId": "12a8cc34-0def-4d28-ebc6-fd6918161e65"
      },
      "execution_count": null,
      "outputs": [
        {
          "output_type": "execute_result",
          "data": {
            "text/plain": [
              "<pandas.io.formats.style.Styler at 0x7fec3c35a7f0>"
            ],
            "text/html": [
              "<style type=\"text/css\">\n",
              "</style>\n",
              "<table id=\"T_12b1b_\" class=\"dataframe\">\n",
              "  <thead>\n",
              "    <tr>\n",
              "      <th class=\"blank level0\" >&nbsp;</th>\n",
              "      <th class=\"col_heading level0 col0\" >Weekly_Sales</th>\n",
              "    </tr>\n",
              "    <tr>\n",
              "      <th class=\"index_name level0\" >Store</th>\n",
              "      <th class=\"blank col0\" >&nbsp;</th>\n",
              "    </tr>\n",
              "  </thead>\n",
              "  <tbody>\n",
              "    <tr>\n",
              "      <th id=\"T_12b1b_level0_row0\" class=\"row_heading level0 row0\" >20</th>\n",
              "      <td id=\"T_12b1b_row0_col0\" class=\"data row0 col0\" >2,107,676.87</td>\n",
              "    </tr>\n",
              "    <tr>\n",
              "      <th id=\"T_12b1b_level0_row1\" class=\"row_heading level0 row1\" >4</th>\n",
              "      <td id=\"T_12b1b_row1_col0\" class=\"data row1 col0\" >2,094,712.96</td>\n",
              "    </tr>\n",
              "    <tr>\n",
              "      <th id=\"T_12b1b_level0_row2\" class=\"row_heading level0 row2\" >14</th>\n",
              "      <td id=\"T_12b1b_row2_col0\" class=\"data row2 col0\" >2,020,978.40</td>\n",
              "    </tr>\n",
              "    <tr>\n",
              "      <th id=\"T_12b1b_level0_row3\" class=\"row_heading level0 row3\" >13</th>\n",
              "      <td id=\"T_12b1b_row3_col0\" class=\"data row3 col0\" >2,003,620.31</td>\n",
              "    </tr>\n",
              "    <tr>\n",
              "      <th id=\"T_12b1b_level0_row4\" class=\"row_heading level0 row4\" >2</th>\n",
              "      <td id=\"T_12b1b_row4_col0\" class=\"data row4 col0\" >1,925,751.34</td>\n",
              "    </tr>\n",
              "    <tr>\n",
              "      <th id=\"T_12b1b_level0_row5\" class=\"row_heading level0 row5\" >10</th>\n",
              "      <td id=\"T_12b1b_row5_col0\" class=\"data row5 col0\" >1,899,424.57</td>\n",
              "    </tr>\n",
              "    <tr>\n",
              "      <th id=\"T_12b1b_level0_row6\" class=\"row_heading level0 row6\" >27</th>\n",
              "      <td id=\"T_12b1b_row6_col0\" class=\"data row6 col0\" >1,775,216.20</td>\n",
              "    </tr>\n",
              "    <tr>\n",
              "      <th id=\"T_12b1b_level0_row7\" class=\"row_heading level0 row7\" >6</th>\n",
              "      <td id=\"T_12b1b_row7_col0\" class=\"data row7 col0\" >1,564,728.19</td>\n",
              "    </tr>\n",
              "    <tr>\n",
              "      <th id=\"T_12b1b_level0_row8\" class=\"row_heading level0 row8\" >1</th>\n",
              "      <td id=\"T_12b1b_row8_col0\" class=\"data row8 col0\" >1,555,264.40</td>\n",
              "    </tr>\n",
              "    <tr>\n",
              "      <th id=\"T_12b1b_level0_row9\" class=\"row_heading level0 row9\" >39</th>\n",
              "      <td id=\"T_12b1b_row9_col0\" class=\"data row9 col0\" >1,450,668.13</td>\n",
              "    </tr>\n",
              "    <tr>\n",
              "      <th id=\"T_12b1b_level0_row10\" class=\"row_heading level0 row10\" >19</th>\n",
              "      <td id=\"T_12b1b_row10_col0\" class=\"data row10 col0\" >1,444,999.04</td>\n",
              "    </tr>\n",
              "    <tr>\n",
              "      <th id=\"T_12b1b_level0_row11\" class=\"row_heading level0 row11\" >31</th>\n",
              "      <td id=\"T_12b1b_row11_col0\" class=\"data row11 col0\" >1,395,901.44</td>\n",
              "    </tr>\n",
              "    <tr>\n",
              "      <th id=\"T_12b1b_level0_row12\" class=\"row_heading level0 row12\" >23</th>\n",
              "      <td id=\"T_12b1b_row12_col0\" class=\"data row12 col0\" >1,389,864.46</td>\n",
              "    </tr>\n",
              "    <tr>\n",
              "      <th id=\"T_12b1b_level0_row13\" class=\"row_heading level0 row13\" >24</th>\n",
              "      <td id=\"T_12b1b_row13_col0\" class=\"data row13 col0\" >1,356,755.39</td>\n",
              "    </tr>\n",
              "    <tr>\n",
              "      <th id=\"T_12b1b_level0_row14\" class=\"row_heading level0 row14\" >11</th>\n",
              "      <td id=\"T_12b1b_row14_col0\" class=\"data row14 col0\" >1,356,383.12</td>\n",
              "    </tr>\n",
              "    <tr>\n",
              "      <th id=\"T_12b1b_level0_row15\" class=\"row_heading level0 row15\" >28</th>\n",
              "      <td id=\"T_12b1b_row15_col0\" class=\"data row15 col0\" >1,323,522.24</td>\n",
              "    </tr>\n",
              "    <tr>\n",
              "      <th id=\"T_12b1b_level0_row16\" class=\"row_heading level0 row16\" >41</th>\n",
              "      <td id=\"T_12b1b_row16_col0\" class=\"data row16 col0\" >1,268,125.42</td>\n",
              "    </tr>\n",
              "    <tr>\n",
              "      <th id=\"T_12b1b_level0_row17\" class=\"row_heading level0 row17\" >32</th>\n",
              "      <td id=\"T_12b1b_row17_col0\" class=\"data row17 col0\" >1,166,568.15</td>\n",
              "    </tr>\n",
              "    <tr>\n",
              "      <th id=\"T_12b1b_level0_row18\" class=\"row_heading level0 row18\" >18</th>\n",
              "      <td id=\"T_12b1b_row18_col0\" class=\"data row18 col0\" >1,084,718.42</td>\n",
              "    </tr>\n",
              "    <tr>\n",
              "      <th id=\"T_12b1b_level0_row19\" class=\"row_heading level0 row19\" >22</th>\n",
              "      <td id=\"T_12b1b_row19_col0\" class=\"data row19 col0\" >1,028,501.04</td>\n",
              "    </tr>\n",
              "    <tr>\n",
              "      <th id=\"T_12b1b_level0_row20\" class=\"row_heading level0 row20\" >12</th>\n",
              "      <td id=\"T_12b1b_row20_col0\" class=\"data row20 col0\" >1,009,001.61</td>\n",
              "    </tr>\n",
              "    <tr>\n",
              "      <th id=\"T_12b1b_level0_row21\" class=\"row_heading level0 row21\" >26</th>\n",
              "      <td id=\"T_12b1b_row21_col0\" class=\"data row21 col0\" >1,002,911.84</td>\n",
              "    </tr>\n",
              "    <tr>\n",
              "      <th id=\"T_12b1b_level0_row22\" class=\"row_heading level0 row22\" >34</th>\n",
              "      <td id=\"T_12b1b_row22_col0\" class=\"data row22 col0\" >966,781.56</td>\n",
              "    </tr>\n",
              "    <tr>\n",
              "      <th id=\"T_12b1b_level0_row23\" class=\"row_heading level0 row23\" >40</th>\n",
              "      <td id=\"T_12b1b_row23_col0\" class=\"data row23 col0\" >964,128.04</td>\n",
              "    </tr>\n",
              "    <tr>\n",
              "      <th id=\"T_12b1b_level0_row24\" class=\"row_heading level0 row24\" >35</th>\n",
              "      <td id=\"T_12b1b_row24_col0\" class=\"data row24 col0\" >919,724.98</td>\n",
              "    </tr>\n",
              "    <tr>\n",
              "      <th id=\"T_12b1b_level0_row25\" class=\"row_heading level0 row25\" >8</th>\n",
              "      <td id=\"T_12b1b_row25_col0\" class=\"data row25 col0\" >908,749.52</td>\n",
              "    </tr>\n",
              "    <tr>\n",
              "      <th id=\"T_12b1b_level0_row26\" class=\"row_heading level0 row26\" >17</th>\n",
              "      <td id=\"T_12b1b_row26_col0\" class=\"data row26 col0\" >893,581.39</td>\n",
              "    </tr>\n",
              "    <tr>\n",
              "      <th id=\"T_12b1b_level0_row27\" class=\"row_heading level0 row27\" >45</th>\n",
              "      <td id=\"T_12b1b_row27_col0\" class=\"data row27 col0\" >785,981.41</td>\n",
              "    </tr>\n",
              "    <tr>\n",
              "      <th id=\"T_12b1b_level0_row28\" class=\"row_heading level0 row28\" >21</th>\n",
              "      <td id=\"T_12b1b_row28_col0\" class=\"data row28 col0\" >756,069.08</td>\n",
              "    </tr>\n",
              "    <tr>\n",
              "      <th id=\"T_12b1b_level0_row29\" class=\"row_heading level0 row29\" >25</th>\n",
              "      <td id=\"T_12b1b_row29_col0\" class=\"data row29 col0\" >706,721.53</td>\n",
              "    </tr>\n",
              "    <tr>\n",
              "      <th id=\"T_12b1b_level0_row30\" class=\"row_heading level0 row30\" >43</th>\n",
              "      <td id=\"T_12b1b_row30_col0\" class=\"data row30 col0\" >633,324.72</td>\n",
              "    </tr>\n",
              "    <tr>\n",
              "      <th id=\"T_12b1b_level0_row31\" class=\"row_heading level0 row31\" >15</th>\n",
              "      <td id=\"T_12b1b_row31_col0\" class=\"data row31 col0\" >623,312.47</td>\n",
              "    </tr>\n",
              "    <tr>\n",
              "      <th id=\"T_12b1b_level0_row32\" class=\"row_heading level0 row32\" >7</th>\n",
              "      <td id=\"T_12b1b_row32_col0\" class=\"data row32 col0\" >570,617.31</td>\n",
              "    </tr>\n",
              "    <tr>\n",
              "      <th id=\"T_12b1b_level0_row33\" class=\"row_heading level0 row33\" >42</th>\n",
              "      <td id=\"T_12b1b_row33_col0\" class=\"data row33 col0\" >556,403.86</td>\n",
              "    </tr>\n",
              "    <tr>\n",
              "      <th id=\"T_12b1b_level0_row34\" class=\"row_heading level0 row34\" >9</th>\n",
              "      <td id=\"T_12b1b_row34_col0\" class=\"data row34 col0\" >543,980.55</td>\n",
              "    </tr>\n",
              "    <tr>\n",
              "      <th id=\"T_12b1b_level0_row35\" class=\"row_heading level0 row35\" >29</th>\n",
              "      <td id=\"T_12b1b_row35_col0\" class=\"data row35 col0\" >539,451.43</td>\n",
              "    </tr>\n",
              "    <tr>\n",
              "      <th id=\"T_12b1b_level0_row36\" class=\"row_heading level0 row36\" >16</th>\n",
              "      <td id=\"T_12b1b_row36_col0\" class=\"data row36 col0\" >519,247.73</td>\n",
              "    </tr>\n",
              "    <tr>\n",
              "      <th id=\"T_12b1b_level0_row37\" class=\"row_heading level0 row37\" >37</th>\n",
              "      <td id=\"T_12b1b_row37_col0\" class=\"data row37 col0\" >518,900.28</td>\n",
              "    </tr>\n",
              "    <tr>\n",
              "      <th id=\"T_12b1b_level0_row38\" class=\"row_heading level0 row38\" >30</th>\n",
              "      <td id=\"T_12b1b_row38_col0\" class=\"data row38 col0\" >438,579.62</td>\n",
              "    </tr>\n",
              "    <tr>\n",
              "      <th id=\"T_12b1b_level0_row39\" class=\"row_heading level0 row39\" >3</th>\n",
              "      <td id=\"T_12b1b_row39_col0\" class=\"data row39 col0\" >402,704.44</td>\n",
              "    </tr>\n",
              "    <tr>\n",
              "      <th id=\"T_12b1b_level0_row40\" class=\"row_heading level0 row40\" >38</th>\n",
              "      <td id=\"T_12b1b_row40_col0\" class=\"data row40 col0\" >385,731.65</td>\n",
              "    </tr>\n",
              "    <tr>\n",
              "      <th id=\"T_12b1b_level0_row41\" class=\"row_heading level0 row41\" >36</th>\n",
              "      <td id=\"T_12b1b_row41_col0\" class=\"data row41 col0\" >373,511.99</td>\n",
              "    </tr>\n",
              "    <tr>\n",
              "      <th id=\"T_12b1b_level0_row42\" class=\"row_heading level0 row42\" >5</th>\n",
              "      <td id=\"T_12b1b_row42_col0\" class=\"data row42 col0\" >318,011.81</td>\n",
              "    </tr>\n",
              "    <tr>\n",
              "      <th id=\"T_12b1b_level0_row43\" class=\"row_heading level0 row43\" >44</th>\n",
              "      <td id=\"T_12b1b_row43_col0\" class=\"data row43 col0\" >302,748.87</td>\n",
              "    </tr>\n",
              "    <tr>\n",
              "      <th id=\"T_12b1b_level0_row44\" class=\"row_heading level0 row44\" >33</th>\n",
              "      <td id=\"T_12b1b_row44_col0\" class=\"data row44 col0\" >259,861.69</td>\n",
              "    </tr>\n",
              "  </tbody>\n",
              "</table>\n"
            ]
          },
          "metadata": {},
          "execution_count": 7
        }
      ]
    },
    {
      "cell_type": "markdown",
      "source": [
        "##Maior Correlação entre as variaveis com o numero de vendas"
      ],
      "metadata": {
        "id": "0lScbyKLcXvz"
      }
    },
    {
      "cell_type": "code",
      "source": [
        "df_corr = df.corr()\n",
        "df.corr().loc['Weekly_Sales'].abs().sort_values(ascending = False)"
      ],
      "metadata": {
        "colab": {
          "base_uri": "https://localhost:8080/"
        },
        "id": "0oO6gjDdbcxy",
        "outputId": "d97547f5-2940-4821-ffb6-5629f19ed371"
      },
      "execution_count": null,
      "outputs": [
        {
          "output_type": "execute_result",
          "data": {
            "text/plain": [
              "Weekly_Sales    1.000000\n",
              "Store           0.335332\n",
              "Unemployment    0.106176\n",
              "CPI             0.072634\n",
              "Temperature     0.063810\n",
              "Holiday_Flag    0.036891\n",
              "Fuel_Price      0.009464\n",
              "Name: Weekly_Sales, dtype: float64"
            ]
          },
          "metadata": {},
          "execution_count": 8
        }
      ]
    },
    {
      "cell_type": "code",
      "source": [
        "sns.heatmap(df_corr, annot = True, center = 0, cmap = 'RdBu_r');"
      ],
      "metadata": {
        "colab": {
          "base_uri": "https://localhost:8080/",
          "height": 336
        },
        "id": "e1_lcPrach0I",
        "outputId": "08e74991-781d-4c82-9d48-e0ce90cbf16d"
      },
      "execution_count": null,
      "outputs": [
        {
          "output_type": "display_data",
          "data": {
            "text/plain": [
              "<Figure size 432x288 with 2 Axes>"
            ],
            "image/png": "[encoded data removed]"
          },
          "metadata": {
            "needs_background": "light"
          }
        }
      ]
    },
    {
      "cell_type": "markdown",
      "source": [
        "##Da loja com maior vendas, semanas do ano em que ultrapassou a média do período de vendas da propria loja"
      ],
      "metadata": {
        "id": "XcU6vxBceR1C"
      }
    },
    {
      "cell_type": "code",
      "source": [
        "target_store = df_mean_store.index[0]"
      ],
      "metadata": {
        "id": "pgZDa9s2dM-Q"
      },
      "execution_count": null,
      "outputs": []
    },
    {
      "cell_type": "code",
      "source": [
        "df_target = df.query('Store == @target_store')"
      ],
      "metadata": {
        "id": "Q2tu7uJ2gnpW"
      },
      "execution_count": null,
      "outputs": []
    },
    {
      "cell_type": "code",
      "source": [
        "df_target_mean = df_target.Weekly_Sales.mean().round()"
      ],
      "metadata": {
        "id": "Rfv8OUUBjAF9"
      },
      "execution_count": null,
      "outputs": []
    },
    {
      "cell_type": "code",
      "source": [
        "(df_target['Weekly_Sales'] > df_target_mean).sum()"
      ],
      "metadata": {
        "colab": {
          "base_uri": "https://localhost:8080/"
        },
        "id": "_IT2QB-wjLSx",
        "outputId": "3677f210-a2ed-4f63-8218-50edb48222a4"
      },
      "execution_count": null,
      "outputs": [
        {
          "output_type": "execute_result",
          "data": {
            "text/plain": [
              "52"
            ]
          },
          "metadata": {},
          "execution_count": 13
        }
      ]
    },
    {
      "cell_type": "code",
      "source": [
        "media = (df_target['Weekly_Sales'] > df_target_mean).sum()/len(df_target)\n",
        "print(media)"
      ],
      "metadata": {
        "colab": {
          "base_uri": "https://localhost:8080/"
        },
        "id": "xN7O6PX9jWPw",
        "outputId": "b613f999-49a8-4fac-e6cc-e327865f43c3"
      },
      "execution_count": null,
      "outputs": [
        {
          "output_type": "stream",
          "name": "stdout",
          "text": [
            "0.36363636363636365\n"
          ]
        }
      ]
    },
    {
      "cell_type": "code",
      "source": [
        "df_holiday = df.loc[df['Holiday_Flag'] == True]\n",
        "df_holiday.head()"
      ],
      "metadata": {
        "colab": {
          "base_uri": "https://localhost:8080/",
          "height": 206
        },
        "id": "VsbVkggBlsMV",
        "outputId": "79180a7d-8dcb-43ab-b399-ec99e335fe03"
      },
      "execution_count": null,
      "outputs": [
        {
          "output_type": "execute_result",
          "data": {
            "text/plain": [
              "    Store       Date  Weekly_Sales  Holiday_Flag  Temperature  Fuel_Price  \\\n",
              "1       1 2010-12-02    1641957.44             1        38.51       2.548   \n",
              "31      1 2010-10-09    1507460.69             1        78.69       2.565   \n",
              "42      1 2010-11-26    1955624.11             1        64.52       2.735   \n",
              "47      1 2010-12-31    1367320.01             1        48.43       2.943   \n",
              "53      1 2011-11-02    1649614.93             1        36.39       3.022   \n",
              "\n",
              "           CPI  Unemployment  \n",
              "1   211.242170         8.106  \n",
              "31  211.495190         7.787  \n",
              "42  211.748433         7.838  \n",
              "47  211.404932         7.838  \n",
              "53  212.936705         7.742  "
            ],
            "text/html": [
              "\n",
              "  <div id=\"df-0a5a06c6-ab40-4788-95c7-5d55c7083048\">\n",
              "    <div class=\"colab-df-container\">\n",
              "      <div>\n",
              "<style scoped>\n",
              "    .dataframe tbody tr th:only-of-type {\n",
              "        vertical-align: middle;\n",
              "    }\n",
              "\n",
              "    .dataframe tbody tr th {\n",
              "        vertical-align: top;\n",
              "    }\n",
              "\n",
              "    .dataframe thead th {\n",
              "        text-align: right;\n",
              "    }\n",
              "</style>\n",
              "<table border=\"1\" class=\"dataframe\">\n",
              "  <thead>\n",
              "    <tr style=\"text-align: right;\">\n",
              "      <th></th>\n",
              "      <th>Store</th>\n",
              "      <th>Date</th>\n",
              "      <th>Weekly_Sales</th>\n",
              "      <th>Holiday_Flag</th>\n",
              "      <th>Temperature</th>\n",
              "      <th>Fuel_Price</th>\n",
              "      <th>CPI</th>\n",
              "      <th>Unemployment</th>\n",
              "    </tr>\n",
              "  </thead>\n",
              "  <tbody>\n",
              "    <tr>\n",
              "      <th>1</th>\n",
              "      <td>1</td>\n",
              "      <td>2010-12-02</td>\n",
              "      <td>1641957.44</td>\n",
              "      <td>1</td>\n",
              "      <td>38.51</td>\n",
              "      <td>2.548</td>\n",
              "      <td>211.242170</td>\n",
              "      <td>8.106</td>\n",
              "    </tr>\n",
              "    <tr>\n",
              "      <th>31</th>\n",
              "      <td>1</td>\n",
              "      <td>2010-10-09</td>\n",
              "      <td>1507460.69</td>\n",
              "      <td>1</td>\n",
              "      <td>78.69</td>\n",
              "      <td>2.565</td>\n",
              "      <td>211.495190</td>\n",
              "      <td>7.787</td>\n",
              "    </tr>\n",
              "    <tr>\n",
              "      <th>42</th>\n",
              "      <td>1</td>\n",
              "      <td>2010-11-26</td>\n",
              "      <td>1955624.11</td>\n",
              "      <td>1</td>\n",
              "      <td>64.52</td>\n",
              "      <td>2.735</td>\n",
              "      <td>211.748433</td>\n",
              "      <td>7.838</td>\n",
              "    </tr>\n",
              "    <tr>\n",
              "      <th>47</th>\n",
              "      <td>1</td>\n",
              "      <td>2010-12-31</td>\n",
              "      <td>1367320.01</td>\n",
              "      <td>1</td>\n",
              "      <td>48.43</td>\n",
              "      <td>2.943</td>\n",
              "      <td>211.404932</td>\n",
              "      <td>7.838</td>\n",
              "    </tr>\n",
              "    <tr>\n",
              "      <th>53</th>\n",
              "      <td>1</td>\n",
              "      <td>2011-11-02</td>\n",
              "      <td>1649614.93</td>\n",
              "      <td>1</td>\n",
              "      <td>36.39</td>\n",
              "      <td>3.022</td>\n",
              "      <td>212.936705</td>\n",
              "      <td>7.742</td>\n",
              "    </tr>\n",
              "  </tbody>\n",
              "</table>\n",
              "</div>\n",
              "      <button class=\"colab-df-convert\" onclick=\"convertToInteractive('df-0a5a06c6-ab40-4788-95c7-5d55c7083048')\"\n",
              "              title=\"Convert this dataframe to an interactive table.\"\n",
              "              style=\"display:none;\">\n",
              "        \n",
              "  <svg xmlns=\"http://www.w3.org/2000/svg\" height=\"24px\"viewBox=\"0 0 24 24\"\n",
              "       width=\"24px\">\n",
              "    <path d=\"M0 0h24v24H0V0z\" fill=\"none\"/>\n",
              "    <path d=\"M18.56 5.44l.94 2.06.94-2.06 2.06-.94-2.06-.94-.94-2.06-.94 2.06-2.06.94zm-11 1L8.5 8.5l.94-2.06 2.06-.94-2.06-.94L8.5 2.5l-.94 2.06-2.06.94zm10 10l.94 2.06.94-2.06 2.06-.94-2.06-.94-.94-2.06-.94 2.06-2.06.94z\"/><path d=\"M17.41 7.96l-1.37-1.37c-.4-.4-.92-.59-1.43-.59-.52 0-1.04.2-1.43.59L10.3 9.45l-7.72 7.72c-.78.78-.78 2.05 0 2.83L4 21.41c.39.39.9.59 1.41.59.51 0 1.02-.2 1.41-.59l7.78-7.78 2.81-2.81c.8-.78.8-2.07 0-2.86zM5.41 20L4 18.59l7.72-7.72 1.47 1.35L5.41 20z\"/>\n",
              "  </svg>\n",
              "      </button>\n",
              "      \n",
              "  <style>\n",
              "    .colab-df-container {\n",
              "      display:flex;\n",
              "      flex-wrap:wrap;\n",
              "      gap: 12px;\n",
              "    }\n",
              "\n",
              "    .colab-df-convert {\n",
              "      background-color: #E8F0FE;\n",
              "      border: none;\n",
              "      border-radius: 50%;\n",
              "      cursor: pointer;\n",
              "      display: none;\n",
              "      fill: #1967D2;\n",
              "      height: 32px;\n",
              "      padding: 0 0 0 0;\n",
              "      width: 32px;\n",
              "    }\n",
              "\n",
              "    .colab-df-convert:hover {\n",
              "      background-color: #E2EBFA;\n",
              "      box-shadow: 0px 1px 2px rgba(60, 64, 67, 0.3), 0px 1px 3px 1px rgba(60, 64, 67, 0.15);\n",
              "      fill: #174EA6;\n",
              "    }\n",
              "\n",
              "    [theme=dark] .colab-df-convert {\n",
              "      background-color: #3B4455;\n",
              "      fill: #D2E3FC;\n",
              "    }\n",
              "\n",
              "    [theme=dark] .colab-df-convert:hover {\n",
              "      background-color: #434B5C;\n",
              "      box-shadow: 0px 1px 3px 1px rgba(0, 0, 0, 0.15);\n",
              "      filter: drop-shadow(0px 1px 2px rgba(0, 0, 0, 0.3));\n",
              "      fill: #FFFFFF;\n",
              "    }\n",
              "  </style>\n",
              "\n",
              "      <script>\n",
              "        const buttonEl =\n",
              "          document.querySelector('#df-0a5a06c6-ab40-4788-95c7-5d55c7083048 button.colab-df-convert');\n",
              "        buttonEl.style.display =\n",
              "          google.colab.kernel.accessAllowed ? 'block' : 'none';\n",
              "\n",
              "        async function convertToInteractive(key) {\n",
              "          const element = document.querySelector('#df-0a5a06c6-ab40-4788-95c7-5d55c7083048');\n",
              "          const dataTable =\n",
              "            await google.colab.kernel.invokeFunction('convertToInteractive',\n",
              "                                                     [key], {});\n",
              "          if (!dataTable) return;\n",
              "\n",
              "          const docLinkHtml = 'Like what you see? Visit the ' +\n",
              "            '<a target=\"_blank\" href=https://colab.research.google.com/notebooks/data_table.ipynb>data table notebook</a>'\n",
              "            + ' to learn more about interactive tables.';\n",
              "          element.innerHTML = '';\n",
              "          dataTable['output_type'] = 'display_data';\n",
              "          await google.colab.output.renderOutput(dataTable, element);\n",
              "          const docLink = document.createElement('div');\n",
              "          docLink.innerHTML = docLinkHtml;\n",
              "          element.appendChild(docLink);\n",
              "        }\n",
              "      </script>\n",
              "    </div>\n",
              "  </div>\n",
              "  "
            ]
          },
          "metadata": {},
          "execution_count": 15
        }
      ]
    },
    {
      "cell_type": "code",
      "source": [
        "df_holiday.info()"
      ],
      "metadata": {
        "colab": {
          "base_uri": "https://localhost:8080/"
        },
        "id": "XyHol_-0n-hF",
        "outputId": "63042198-a4f0-452b-fe1a-3a6181cdd773"
      },
      "execution_count": null,
      "outputs": [
        {
          "output_type": "stream",
          "name": "stdout",
          "text": [
            "<class 'pandas.core.frame.DataFrame'>\n",
            "Int64Index: 450 entries, 1 to 6427\n",
            "Data columns (total 8 columns):\n",
            " #   Column        Non-Null Count  Dtype         \n",
            "---  ------        --------------  -----         \n",
            " 0   Store         450 non-null    int64         \n",
            " 1   Date          450 non-null    datetime64[ns]\n",
            " 2   Weekly_Sales  450 non-null    float64       \n",
            " 3   Holiday_Flag  450 non-null    int64         \n",
            " 4   Temperature   450 non-null    float64       \n",
            " 5   Fuel_Price    450 non-null    float64       \n",
            " 6   CPI           450 non-null    float64       \n",
            " 7   Unemployment  450 non-null    float64       \n",
            "dtypes: datetime64[ns](1), float64(5), int64(2)\n",
            "memory usage: 31.6 KB\n"
          ]
        }
      ]
    },
    {
      "cell_type": "code",
      "source": [
        "df_holiday_agg = df.groupby('Date')['Weekly_Sales'].agg(['min', 'max', 'mean'])"
      ],
      "metadata": {
        "id": "iOvN0yqIoSPm"
      },
      "execution_count": null,
      "outputs": []
    },
    {
      "cell_type": "code",
      "source": [
        "plt.figure(figsize = (16,8))\n",
        "sns.lineplot(data = df_holiday_agg, x = 'Date', y = 'mean')"
      ],
      "metadata": {
        "colab": {
          "base_uri": "https://localhost:8080/",
          "height": 525
        },
        "id": "RZiDTJALo4we",
        "outputId": "152ae010-7588-43b2-e59c-b782c721ab4e"
      },
      "execution_count": null,
      "outputs": [
        {
          "output_type": "execute_result",
          "data": {
            "text/plain": [
              "<AxesSubplot:xlabel='Date', ylabel='mean'>"
            ]
          },
          "metadata": {},
          "execution_count": 18
        },
        {
          "output_type": "display_data",
          "data": {
            "text/plain": [
              "<Figure size 1152x576 with 1 Axes>"
            ],
            "image/png": "[encoded data removed]"
          },
          "metadata": {
            "needs_background": "light"
          }
        }
      ]
    },
    {
      "cell_type": "markdown",
      "source": [
        "##Pensando na expansão de lojas, eu escolheria essa"
      ],
      "metadata": {
        "id": "dTSwr6bXqtMS"
      }
    },
    {
      "cell_type": "code",
      "source": [
        "df_sorted = df.sort_values(['Store','Date'])\n",
        "df_sorted.head()"
      ],
      "metadata": {
        "colab": {
          "base_uri": "https://localhost:8080/",
          "height": 206
        },
        "id": "tlJpiOPUpDae",
        "outputId": "acdca742-bd10-4c66-de86-e2c8453bc7ea"
      },
      "execution_count": null,
      "outputs": [
        {
          "output_type": "execute_result",
          "data": {
            "text/plain": [
              "    Store       Date  Weekly_Sales  Holiday_Flag  Temperature  Fuel_Price  \\\n",
              "34      1 2010-01-10    1453329.50             0        71.89       2.603   \n",
              "8       1 2010-02-04    1594968.28             0        62.27       2.719   \n",
              "21      1 2010-02-07    1492418.14             0        80.91       2.669   \n",
              "2       1 2010-02-19    1611968.17             0        39.93       2.514   \n",
              "3       1 2010-02-26    1409727.59             0        46.63       2.561   \n",
              "\n",
              "           CPI  Unemployment  \n",
              "34  211.671989         7.838  \n",
              "8   210.820450         7.808  \n",
              "21  211.223533         7.787  \n",
              "2   211.289143         8.106  \n",
              "3   211.319643         8.106  "
            ],
            "text/html": [
              "\n",
              "  <div id=\"df-98e91ff6-b206-4577-8e6a-da2f715b7516\">\n",
              "    <div class=\"colab-df-container\">\n",
              "      <div>\n",
              "<style scoped>\n",
              "    .dataframe tbody tr th:only-of-type {\n",
              "        vertical-align: middle;\n",
              "    }\n",
              "\n",
              "    .dataframe tbody tr th {\n",
              "        vertical-align: top;\n",
              "    }\n",
              "\n",
              "    .dataframe thead th {\n",
              "        text-align: right;\n",
              "    }\n",
              "</style>\n",
              "<table border=\"1\" class=\"dataframe\">\n",
              "  <thead>\n",
              "    <tr style=\"text-align: right;\">\n",
              "      <th></th>\n",
              "      <th>Store</th>\n",
              "      <th>Date</th>\n",
              "      <th>Weekly_Sales</th>\n",
              "      <th>Holiday_Flag</th>\n",
              "      <th>Temperature</th>\n",
              "      <th>Fuel_Price</th>\n",
              "      <th>CPI</th>\n",
              "      <th>Unemployment</th>\n",
              "    </tr>\n",
              "  </thead>\n",
              "  <tbody>\n",
              "    <tr>\n",
              "      <th>34</th>\n",
              "      <td>1</td>\n",
              "      <td>2010-01-10</td>\n",
              "      <td>1453329.50</td>\n",
              "      <td>0</td>\n",
              "      <td>71.89</td>\n",
              "      <td>2.603</td>\n",
              "      <td>211.671989</td>\n",
              "      <td>7.838</td>\n",
              "    </tr>\n",
              "    <tr>\n",
              "      <th>8</th>\n",
              "      <td>1</td>\n",
              "      <td>2010-02-04</td>\n",
              "      <td>1594968.28</td>\n",
              "      <td>0</td>\n",
              "      <td>62.27</td>\n",
              "      <td>2.719</td>\n",
              "      <td>210.820450</td>\n",
              "      <td>7.808</td>\n",
              "    </tr>\n",
              "    <tr>\n",
              "      <th>21</th>\n",
              "      <td>1</td>\n",
              "      <td>2010-02-07</td>\n",
              "      <td>1492418.14</td>\n",
              "      <td>0</td>\n",
              "      <td>80.91</td>\n",
              "      <td>2.669</td>\n",
              "      <td>211.223533</td>\n",
              "      <td>7.787</td>\n",
              "    </tr>\n",
              "    <tr>\n",
              "      <th>2</th>\n",
              "      <td>1</td>\n",
              "      <td>2010-02-19</td>\n",
              "      <td>1611968.17</td>\n",
              "      <td>0</td>\n",
              "      <td>39.93</td>\n",
              "      <td>2.514</td>\n",
              "      <td>211.289143</td>\n",
              "      <td>8.106</td>\n",
              "    </tr>\n",
              "    <tr>\n",
              "      <th>3</th>\n",
              "      <td>1</td>\n",
              "      <td>2010-02-26</td>\n",
              "      <td>1409727.59</td>\n",
              "      <td>0</td>\n",
              "      <td>46.63</td>\n",
              "      <td>2.561</td>\n",
              "      <td>211.319643</td>\n",
              "      <td>8.106</td>\n",
              "    </tr>\n",
              "  </tbody>\n",
              "</table>\n",
              "</div>\n",
              "      <button class=\"colab-df-convert\" onclick=\"convertToInteractive('df-98e91ff6-b206-4577-8e6a-da2f715b7516')\"\n",
              "              title=\"Convert this dataframe to an interactive table.\"\n",
              "              style=\"display:none;\">\n",
              "        \n",
              "  <svg xmlns=\"http://www.w3.org/2000/svg\" height=\"24px\"viewBox=\"0 0 24 24\"\n",
              "       width=\"24px\">\n",
              "    <path d=\"M0 0h24v24H0V0z\" fill=\"none\"/>\n",
              "    <path d=\"M18.56 5.44l.94 2.06.94-2.06 2.06-.94-2.06-.94-.94-2.06-.94 2.06-2.06.94zm-11 1L8.5 8.5l.94-2.06 2.06-.94-2.06-.94L8.5 2.5l-.94 2.06-2.06.94zm10 10l.94 2.06.94-2.06 2.06-.94-2.06-.94-.94-2.06-.94 2.06-2.06.94z\"/><path d=\"M17.41 7.96l-1.37-1.37c-.4-.4-.92-.59-1.43-.59-.52 0-1.04.2-1.43.59L10.3 9.45l-7.72 7.72c-.78.78-.78 2.05 0 2.83L4 21.41c.39.39.9.59 1.41.59.51 0 1.02-.2 1.41-.59l7.78-7.78 2.81-2.81c.8-.78.8-2.07 0-2.86zM5.41 20L4 18.59l7.72-7.72 1.47 1.35L5.41 20z\"/>\n",
              "  </svg>\n",
              "      </button>\n",
              "      \n",
              "  <style>\n",
              "    .colab-df-container {\n",
              "      display:flex;\n",
              "      flex-wrap:wrap;\n",
              "      gap: 12px;\n",
              "    }\n",
              "\n",
              "    .colab-df-convert {\n",
              "      background-color: #E8F0FE;\n",
              "      border: none;\n",
              "      border-radius: 50%;\n",
              "      cursor: pointer;\n",
              "      display: none;\n",
              "      fill: #1967D2;\n",
              "      height: 32px;\n",
              "      padding: 0 0 0 0;\n",
              "      width: 32px;\n",
              "    }\n",
              "\n",
              "    .colab-df-convert:hover {\n",
              "      background-color: #E2EBFA;\n",
              "      box-shadow: 0px 1px 2px rgba(60, 64, 67, 0.3), 0px 1px 3px 1px rgba(60, 64, 67, 0.15);\n",
              "      fill: #174EA6;\n",
              "    }\n",
              "\n",
              "    [theme=dark] .colab-df-convert {\n",
              "      background-color: #3B4455;\n",
              "      fill: #D2E3FC;\n",
              "    }\n",
              "\n",
              "    [theme=dark] .colab-df-convert:hover {\n",
              "      background-color: #434B5C;\n",
              "      box-shadow: 0px 1px 3px 1px rgba(0, 0, 0, 0.15);\n",
              "      filter: drop-shadow(0px 1px 2px rgba(0, 0, 0, 0.3));\n",
              "      fill: #FFFFFF;\n",
              "    }\n",
              "  </style>\n",
              "\n",
              "      <script>\n",
              "        const buttonEl =\n",
              "          document.querySelector('#df-98e91ff6-b206-4577-8e6a-da2f715b7516 button.colab-df-convert');\n",
              "        buttonEl.style.display =\n",
              "          google.colab.kernel.accessAllowed ? 'block' : 'none';\n",
              "\n",
              "        async function convertToInteractive(key) {\n",
              "          const element = document.querySelector('#df-98e91ff6-b206-4577-8e6a-da2f715b7516');\n",
              "          const dataTable =\n",
              "            await google.colab.kernel.invokeFunction('convertToInteractive',\n",
              "                                                     [key], {});\n",
              "          if (!dataTable) return;\n",
              "\n",
              "          const docLinkHtml = 'Like what you see? Visit the ' +\n",
              "            '<a target=\"_blank\" href=https://colab.research.google.com/notebooks/data_table.ipynb>data table notebook</a>'\n",
              "            + ' to learn more about interactive tables.';\n",
              "          element.innerHTML = '';\n",
              "          dataTable['output_type'] = 'display_data';\n",
              "          await google.colab.output.renderOutput(dataTable, element);\n",
              "          const docLink = document.createElement('div');\n",
              "          docLink.innerHTML = docLinkHtml;\n",
              "          element.appendChild(docLink);\n",
              "        }\n",
              "      </script>\n",
              "    </div>\n",
              "  </div>\n",
              "  "
            ]
          },
          "metadata": {},
          "execution_count": 19
        }
      ]
    },
    {
      "cell_type": "code",
      "source": [],
      "metadata": {
        "id": "BYtETXB0rTzM"
      },
      "execution_count": null,
      "outputs": []
    }
  ]
}